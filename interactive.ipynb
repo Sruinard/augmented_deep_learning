{
 "cells": [
  {
   "cell_type": "code",
   "execution_count": null,
   "metadata": {},
   "outputs": [],
   "source": [
    "%load_ext autoreload\n",
    "%autoreload 2"
   ]
  },
  {
   "cell_type": "code",
   "execution_count": null,
   "metadata": {},
   "outputs": [],
   "source": [
    "import os\n",
    "import time\n",
    "\n",
    "import jax\n",
    "import tensorflow as tf\n",
    "from clu import metric_writers\n",
    "\n",
    "import input_pipeline as ip\n",
    "import metrics\n",
    "import serving\n",
    "import train\n",
    "from configs import default as cfgs"
   ]
  },
  {
   "cell_type": "code",
   "execution_count": null,
   "metadata": {},
   "outputs": [],
   "source": [
    "# Preprocessing recipe\n",
    "\n",
    "class SimplePreprocessor(tf.Module):\n",
    "    \n",
    "    def __init__(self):\n",
    "        self.norm = tf.keras.layers.Normalization()\n",
    "\n",
    "    def fit(self, data):\n",
    "        self.norm.adapt(data)\n",
    "\n",
    "    @tf.function(input_signature=[tf.TensorSpec([None, 1], tf.float32)])\n",
    "    def train_fn(self, examples):\n",
    "        return {\n",
    "            \"normalized_features\": self.norm(examples)\n",
    "        }\n",
    "\n",
    "    @tf.function(input_signature=[tf.TensorSpec([None, 1], tf.float32)])\n",
    "    def serving_fn(self, examples):\n",
    "        return {\n",
    "            \"normalized_features\": self.norm(examples)\n",
    "        }\n",
    "\n",
    "\n",
    "p = SimplePreprocessor()\n",
    "ds = tf.data.Dataset.range(100).batch(5, drop_remainder=True).map(lambda x: tf.cast(tf.reshape(x, [-1, 1]), tf.float32))\n",
    "for x in ds.take(1):\n",
    "    print(x.shape)\n",
    "p.fit(ds)\n",
    "\n",
    "tf.saved_model.save(p, \"./artifacts/models/simple_preprocessor\", signatures={\"serving_default\": p.serving_fn, \"train_default\": p.train_fn})\n",
    "loaded = tf.saved_model.load(\"./artifacts/models/simple_preprocessor\")\n",
    "loaded.signatures[\"serving_default\"]\n",
    "norm_features = loaded.signatures[\"serving_default\"](tf.constant([[49.5]]))[\"normalized_features\"].numpy()[0][0]\n",
    "print(f\"norm_features: {norm_features:0.4f}\")"
   ]
  },
  {
   "cell_type": "markdown",
   "metadata": {},
   "source": [
    "# full pipeline"
   ]
  },
  {
   "cell_type": "code",
   "execution_count": 95,
   "metadata": {},
   "outputs": [],
   "source": [
    "cfg = cfgs.get_config()\n",
    "p = ip.Preprocessor()\n",
    "train_ds, val_ds = ip.get_datasets(\n",
    "    preprocessor=p,\n",
    "    train_src=cfg.train_src,\n",
    "    val_src=cfg.val_src\n",
    ")\n",
    "\n",
    "x, y = next(iter(train_ds))\n",
    "print(\n",
    "    f\"x: {x.shape}\\n\"\n",
    "    f\"y: {y.shape}\\n\"\n",
    ")"
   ]
  },
  {
   "cell_type": "code",
   "execution_count": null,
   "metadata": {},
   "outputs": [],
   "source": [
    "\n",
    "rng = jax.random.PRNGKey(cfg.seed)\n",
    "metric_collection = metrics.MetricCollection.empty()\n",
    "\n",
    "writer = metric_writers.create_default_writer(cfg.logdir)\n",
    "hooks = [\n",
    "    # Outputs progress via metric writer (in this case logs & TensorBoard).\n",
    "    metrics.ReportProgress(\n",
    "        num_train_steps=cfg.n_steps_per_epoch * cfg.n_epochs, every_steps=cfg.n_steps_per_epoch, writer=writer\n",
    "    ),\n",
    "    metrics.Profile(logdir=cfg.logdir),\n",
    "    metrics.TensorboardCallback(\n",
    "        callback_fn=metrics.TensorboardCallback.write_metrics,\n",
    "        every_steps=cfg.n_steps_per_epoch,\n",
    "    ),\n",
    "]\n",
    "\n",
    "mngr = train.create_manager(cfg.checkpoint_dir)\n",
    "state = train.restore_or_create_state(mngr, rng, x.shape)\n",
    "\n",
    "global_step = 0\n",
    "state, train_metrics, eval_metrics, global_step = train.run_loop(\n",
    "    state=state,\n",
    "    train_ds=train_ds,\n",
    "    val_ds=val_ds,\n",
    "    n_train_steps=cfg.n_steps_per_epoch,\n",
    "    n_eval_steps=cfg.n_steps_per_epoch // 10,\n",
    "    global_step=global_step,\n",
    "    hooks=hooks,\n",
    "    writer=writer,\n",
    "    mngr=mngr,\n",
    "    metric_collection=metric_collection\n",
    ")"
   ]
  },
  {
   "cell_type": "code",
   "execution_count": null,
   "metadata": {},
   "outputs": [],
   "source": [
    "for _ in range(cfg.n_epochs):\n",
    "    state, train_metrics, eval_metrics, global_step = train.run_loop(\n",
    "        state=state,\n",
    "        train_ds=train_ds,\n",
    "        val_ds=val_ds,\n",
    "        n_train_steps=cfg.n_steps_per_epoch,\n",
    "        n_eval_steps=cfg.n_steps_per_epoch // 10,\n",
    "        global_step=global_step,\n",
    "        hooks=hooks,\n",
    "        writer=writer,\n",
    "        mngr=mngr,\n",
    "        metric_collection=metric_collection\n",
    "    )\n",
    "    \n",
    "    \n",
    "    print(f\"train_metrics: {train_metrics.compute()}\")\n",
    "    print(f\"eval_metrics: {eval_metrics.compute()}\")\n",
    "\n",
    "    \n",
    "best_model_state = train.restore_or_create_state(mngr, rng, x.shape)\n",
    "train.to_saved_model(\n",
    "    best_model_state, p.serving_fn, cfg.model_serving_dir, etr={\"preprocessor\": p.norm}\n",
    ")\n",
    "    \n",
    "    "
   ]
  },
  {
   "cell_type": "code",
   "execution_count": null,
   "metadata": {},
   "outputs": [],
   "source": [
    "train.train_and_eval(cfgs.get_config())"
   ]
  },
  {
   "cell_type": "code",
   "execution_count": 99,
   "metadata": {},
   "outputs": [],
   "source": [
    "\n",
    "serving.run_tf_serving(os.path.join(cfg.model_serving_dir, cfg.model_name))\n",
    "# give some time for the server to start\n",
    "time.sleep(5)\n",
    "\n"
   ]
  },
  {
   "cell_type": "code",
   "execution_count": null,
   "metadata": {},
   "outputs": [],
   "source": [
    "preds = serving.predict_with_docker(\n",
    "    model_name=cfg.model_name,\n",
    "    batch=serving.raw_batch\n",
    ")\n",
    "print(preds) \n",
    "    "
   ]
  }
 ],
 "metadata": {
  "kernelspec": {
   "display_name": "venv",
   "language": "python",
   "name": "python3"
  },
  "language_info": {
   "codemirror_mode": {
    "name": "ipython",
    "version": 3
   },
   "file_extension": ".py",
   "mimetype": "text/x-python",
   "name": "python",
   "nbconvert_exporter": "python",
   "pygments_lexer": "ipython3",
   "version": "3.9.16"
  }
 },
 "nbformat": 4,
 "nbformat_minor": 2
}
